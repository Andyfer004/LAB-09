{
  "cells": [
    {
      "cell_type": "markdown",
      "metadata": {
        "id": "view-in-github",
        "colab_type": "text"
      },
      "source": [
        "<a href=\"https://colab.research.google.com/github/Andyfer004/LAB-09/blob/main/LAB9IA.ipynb\" target=\"_parent\"><img src=\"https://colab.research.google.com/assets/colab-badge.svg\" alt=\"Open In Colab\"/></a>"
      ]
    },
    {
      "cell_type": "markdown",
      "id": "5430f36a",
      "metadata": {
        "id": "5430f36a"
      },
      "source": [
        "# LAB 8 - Inteligencia Artificial"
      ]
    },
    {
      "cell_type": "markdown",
      "id": "88a3bcbf",
      "metadata": {
        "id": "88a3bcbf"
      },
      "source": [
        " ## Catedrático: Alberto Suriano\n",
        "\n",
        "    ### Estudiantes:\n",
        "    - Andy Fuentes 22944\n",
        "    - Davis Roldán  22672\n",
        "    - Diederich Solís 22952\n",
        "    "
      ]
    },
    {
      "cell_type": "markdown",
      "id": "7ba51a9d",
      "metadata": {
        "id": "7ba51a9d"
      },
      "source": [
        "## Tasks 1 - Teoría"
      ]
    },
    {
      "cell_type": "markdown",
      "id": "ad93e003",
      "metadata": {
        "id": "ad93e003"
      },
      "source": [
        "### 1. Diferencia entre Modelos de Markov y Hidden Markov Models"
      ]
    },
    {
      "cell_type": "markdown",
      "id": "78dc6b5a",
      "metadata": {
        "id": "78dc6b5a"
      },
      "source": [
        "Los Modelos de Markov y los Modelos Ocultos de Markov (Hidden Markov Models, HMM) están relacionados, pero su principal diferencia es que el Modelo de Markov clásico describe un proceso donde los estados del sistema son observables directamente y la probabilidad de pasar de un estado a otro depende únicamente del estado actual (no del historial pasado). En cambio, en un HMM, los estados verdaderos del sistema no son observables de manera directa; en su lugar, se observan señales o datos que dependen de esos estados ocultos. Es decir, los HMM introducen una capa de incertidumbre adicional, porque además de modelar transiciones entre estados, también modelan cómo se generan observaciones a partir de esos estados ocultos."
      ]
    },
    {
      "cell_type": "markdown",
      "id": "e474c65f",
      "metadata": {
        "id": "e474c65f"
      },
      "source": [
        "### 2. ¿Qué son los factorial HMM (Hidden Markov Models)?"
      ]
    },
    {
      "cell_type": "markdown",
      "id": "95f596f8",
      "metadata": {
        "id": "95f596f8"
      },
      "source": [
        "Los Factorial Hidden Markov Models (FHMM) son una extensión de los HMM tradicionales. En un FHMM, en lugar de tener una sola cadena de estados ocultos que genera observaciones, se tienen múltiples cadenas ocultas independientes entre sí que actúan de manera conjunta para generar una única observación. Cada cadena sigue su propio proceso de Markov, pero la observación final depende de la combinación de los estados de todas las cadenas en ese momento. Esta estructura permite modelar sistemas más complejos y ricos, donde una sola cadena de estados sería insuficiente para capturar toda la dinámica del sistema."
      ]
    },
    {
      "cell_type": "markdown",
      "id": "c4acefb1",
      "metadata": {
        "id": "c4acefb1"
      },
      "source": [
        "### 3. Algoritmo Forward-Backward para HMM"
      ]
    },
    {
      "cell_type": "markdown",
      "id": "40f3a1e2",
      "metadata": {
        "id": "40f3a1e2"
      },
      "source": [
        "El algoritmo Forward-Backward es un método eficiente utilizado en HMMs para calcular la probabilidad de una secuencia observada, así como para inferir la probabilidad de estar en un estado específico en un momento dado. El algoritmo tiene dos fases principales: la fase Forward, donde se recorre la secuencia de observaciones desde el inicio hacia el final acumulando las probabilidades de llegar a cada estado, y la fase Backward, donde se recorre la secuencia en sentido inverso, desde el final hacia el inicio, acumulando las probabilidades futuras desde cada estado. Finalmente, combinando ambas fases se pueden obtener las probabilidades posteriores de los estados dados los datos observados."
      ]
    },
    {
      "cell_type": "markdown",
      "id": "9f386182",
      "metadata": {
        "id": "9f386182"
      },
      "source": [
        "### 4. ¿Por qué es necesario el paso Backward en el algoritmo Forward-Backward?"
      ]
    },
    {
      "cell_type": "markdown",
      "id": "caeecca4",
      "metadata": {
        "id": "caeecca4"
      },
      "source": [
        "El paso Backward es necesario porque en un HMM no basta con saber la probabilidad de haber llegado a un estado en el tiempo actual; también importa considerar la probabilidad de lo que falta por observar a partir de ese estado. Sin el paso Backward, sólo tendríamos información de cómo llegamos hasta un estado, pero no podríamos evaluar qué tan probable es que a partir de ese estado se generen las observaciones siguientes. Por ejemplo, supongamos que estamos analizando el comportamiento del clima, y hasta hoy el modelo sugiere que es muy probable que esté nublado. Sin embargo, si sabemos que en los próximos días hay observaciones que indican sol constante, necesitamos considerar que algunos estados \"nublados\" en el presente serían inconsistentes con la secuencia futura. El paso Backward nos ayuda a integrar esta información del futuro y ajustar nuestras inferencias de los estados ocultos de manera más precisa."
      ]
    },
    {
      "cell_type": "markdown",
      "source": [
        "# Task 2: Algoritmo Forward–Backward en HMM\n",
        "\n",
        "Implementaremos el algoritmo Forward–Backward para un modelo meteorológico basado en un HMM de dos estados: **Sunny** y **Rainy**."
      ],
      "metadata": {
        "id": "Wju39qVeOEDC"
      },
      "id": "Wju39qVeOEDC"
    },
    {
      "cell_type": "markdown",
      "source": [
        "## Subtask 2.1: Definir parámetros del HMM"
      ],
      "metadata": {
        "id": "-Qb03eGwOGYA"
      },
      "id": "-Qb03eGwOGYA"
    },
    {
      "cell_type": "code",
      "source": [
        "states = ['Sunny', 'Rainy']\n",
        "observations = ['Sunny', 'Rainy']\n",
        "initial_prob = { 'Sunny': 0.5, 'Rainy': 0.5 }\n",
        "transition_prob = {\n",
        "    'Sunny': { 'Sunny': 0.8, 'Rainy': 0.2 },\n",
        "    'Rainy': { 'Sunny': 0.4, 'Rainy': 0.6 }\n",
        "}\n",
        "emission_prob = {\n",
        "    'Sunny': { 'Sunny': 0.8, 'Rainy': 0.2 },\n",
        "    'Rainy': { 'Sunny': 0.3, 'Rainy': 0.7 }\n",
        "}"
      ],
      "metadata": {
        "id": "FqUw_fk4OJAy"
      },
      "id": "FqUw_fk4OJAy",
      "execution_count": 1,
      "outputs": []
    },
    {
      "cell_type": "markdown",
      "source": [
        "##Subtask 2.2: Crear la clase HMM"
      ],
      "metadata": {
        "id": "iuIfSVOhOMWk"
      },
      "id": "iuIfSVOhOMWk"
    },
    {
      "cell_type": "code",
      "source": [
        "class HMM:\n",
        "    def __init__(self, states, observations, initial_prob, transition_prob, emission_prob):\n",
        "        self.states = states\n",
        "        self.observations = observations\n",
        "        self.initial_prob = initial_prob\n",
        "        self.transition_prob = transition_prob\n",
        "        self.emission_prob = emission_prob\n",
        "\n",
        "    def generate_sequence(self, length):\n",
        "        import random\n",
        "        sequence = []\n",
        "        state = random.choices(self.states, weights=[self.initial_prob[s] for s in self.states])[0]\n",
        "        for _ in range(length):\n",
        "            obs = random.choices(self.observations, weights=[self.emission_prob[state][o] for o in self.observations])[0]\n",
        "            sequence.append(obs)\n",
        "            state = random.choices(self.states, weights=[self.transition_prob[state][s] for s in self.states])[0]\n",
        "        return sequence\n",
        "\n",
        "    def forward(self, observations):\n",
        "        fwd = [{}]\n",
        "        for s in self.states:\n",
        "            fwd[0][s] = self.initial_prob[s] * self.emission_prob[s][observations[0]]\n",
        "        for t in range(1, len(observations)):\n",
        "            fwd.append({})\n",
        "            for s in self.states:\n",
        "                fwd[t][s] = sum(fwd[t-1][s_prev] * self.transition_prob[s_prev][s] for s_prev in self.states) * self.emission_prob[s][observations[t]]\n",
        "        return fwd\n",
        "\n",
        "    def backward(self, observations):\n",
        "        bwd = [{} for _ in range(len(observations))]\n",
        "        for s in self.states:\n",
        "            bwd[-1][s] = 1\n",
        "        for t in reversed(range(len(observations) - 1)):\n",
        "            for s in self.states:\n",
        "                bwd[t][s] = sum(self.transition_prob[s][s_next] * self.emission_prob[s_next][observations[t+1]] * bwd[t+1][s_next] for s_next in self.states)\n",
        "        return bwd\n",
        "\n",
        "    def compute_state_probabilities(self, observations):\n",
        "        fwd = self.forward(observations)\n",
        "        bwd = self.backward(observations)\n",
        "        state_probs = []\n",
        "        for t in range(len(observations)):\n",
        "            total = sum(fwd[t][s] * bwd[t][s] for s in self.states)\n",
        "            probs = {s: (fwd[t][s] * bwd[t][s]) / total for s in self.states}\n",
        "            state_probs.append(probs)\n",
        "        return state_probs"
      ],
      "metadata": {
        "id": "TAQBjNe_OO41"
      },
      "id": "TAQBjNe_OO41",
      "execution_count": 2,
      "outputs": []
    },
    {
      "cell_type": "markdown",
      "source": [
        "##Subtask 2.3: Crear una instancia del HMM"
      ],
      "metadata": {
        "id": "Amt7CJI-OTnt"
      },
      "id": "Amt7CJI-OTnt"
    },
    {
      "cell_type": "code",
      "source": [
        "hmm = HMM(states, observations, initial_prob, transition_prob, emission_prob)"
      ],
      "metadata": {
        "id": "V7BE5Ri6OY1B"
      },
      "id": "V7BE5Ri6OY1B",
      "execution_count": 3,
      "outputs": []
    },
    {
      "cell_type": "markdown",
      "source": [
        "##Subtask 2.4: Generar una secuencia de observaciones"
      ],
      "metadata": {
        "id": "OQFFOvjtOdS9"
      },
      "id": "OQFFOvjtOdS9"
    },
    {
      "cell_type": "code",
      "source": [
        "obs_sequence = hmm.generate_sequence(5)\n",
        "print(\"Secuencia generada:\", obs_sequence)"
      ],
      "metadata": {
        "colab": {
          "base_uri": "https://localhost:8080/"
        },
        "id": "_VbMxls3OgBc",
        "outputId": "8b92b3d5-5da4-44a7-c531-613267b169ea"
      },
      "id": "_VbMxls3OgBc",
      "execution_count": 4,
      "outputs": [
        {
          "output_type": "stream",
          "name": "stdout",
          "text": [
            "Secuencia generada: ['Rainy', 'Rainy', 'Sunny', 'Sunny', 'Rainy']\n"
          ]
        }
      ]
    },
    {
      "cell_type": "markdown",
      "source": [
        "##Subtask 2.5: Calcular las probabilidades Forward"
      ],
      "metadata": {
        "id": "fyR_m5v5OibI"
      },
      "id": "fyR_m5v5OibI"
    },
    {
      "cell_type": "code",
      "source": [
        "forward_probs = hmm.forward(obs_sequence)\n",
        "print(\"\\nProbabilidades Forward:\")\n",
        "print(forward_probs)"
      ],
      "metadata": {
        "colab": {
          "base_uri": "https://localhost:8080/"
        },
        "id": "LyGOrbTSOk5s",
        "outputId": "65a5483c-5f06-408e-e993-ebec0b3e6560"
      },
      "id": "LyGOrbTSOk5s",
      "execution_count": 5,
      "outputs": [
        {
          "output_type": "stream",
          "name": "stdout",
          "text": [
            "\n",
            "Probabilidades Forward:\n",
            "[{'Sunny': 0.1, 'Rainy': 0.35}, {'Sunny': 0.044000000000000004, 'Rainy': 0.16099999999999998}, {'Sunny': 0.07968, 'Rainy': 0.031619999999999995}, {'Sunny': 0.06111360000000002, 'Rainy': 0.010472399999999998}, {'Sunny': 0.010615968000000003, 'Rainy': 0.012954312000000003}]\n"
          ]
        }
      ]
    },
    {
      "cell_type": "markdown",
      "source": [
        "##Subtask 2.6: Calcular las probabilidades Backward"
      ],
      "metadata": {
        "id": "MFSilpHgOo1A"
      },
      "id": "MFSilpHgOo1A"
    },
    {
      "cell_type": "code",
      "source": [
        "backward_probs = hmm.backward(obs_sequence)\n",
        "print(\"\\nProbabilidades Backward:\")\n",
        "print(backward_probs)"
      ],
      "metadata": {
        "colab": {
          "base_uri": "https://localhost:8080/"
        },
        "id": "gkpMIYuNOtaO",
        "outputId": "0fb89618-69b4-41cb-f4ff-4a8425259524"
      },
      "id": "gkpMIYuNOtaO",
      "execution_count": 6,
      "outputs": [
        {
          "output_type": "stream",
          "name": "stdout",
          "text": [
            "\n",
            "Probabilidades Backward:\n",
            "[{'Sunny': 0.03915120000000002, 'Rainy': 0.056157600000000016}, {'Sunny': 0.15324000000000007, 'Rainy': 0.10452000000000003}, {'Sunny': 0.22200000000000006, 'Rainy': 0.18600000000000003}, {'Sunny': 0.30000000000000004, 'Rainy': 0.5}, {'Sunny': 1, 'Rainy': 1}]\n"
          ]
        }
      ]
    },
    {
      "cell_type": "markdown",
      "source": [
        "##Subtask 2.7: Calcular las probabilidades de estado combinadas (Forward–Backward)"
      ],
      "metadata": {
        "id": "HGxI2CNeOvJK"
      },
      "id": "HGxI2CNeOvJK"
    },
    {
      "cell_type": "code",
      "source": [
        "state_probs = hmm.compute_state_probabilities(obs_sequence)\n",
        "print(\"\\nProbabilidades de estado por instante:\")\n",
        "print(state_probs)"
      ],
      "metadata": {
        "colab": {
          "base_uri": "https://localhost:8080/"
        },
        "id": "5uj8reQaOyOT",
        "outputId": "9c3371e1-85e6-4210-8351-22e3aaeef326"
      },
      "id": "5uj8reQaOyOT",
      "execution_count": 7,
      "outputs": [
        {
          "output_type": "stream",
          "name": "stdout",
          "text": [
            "\n",
            "Probabilidades de estado por instante:\n",
            "[{'Sunny': 0.1661040937994797, 'Rainy': 0.8338959062005203}, {'Sunny': 0.28606193901811955, 'Rainy': 0.7139380609818804}, {'Sunny': 0.7504772959846044, 'Rainy': 0.2495227040153956}, {'Sunny': 0.7778473569257558, 'Rainy': 0.2221526430742442}, {'Sunny': 0.45039634658561545, 'Rainy': 0.5496036534143846}]\n"
          ]
        }
      ]
    },
    {
      "cell_type": "markdown",
      "source": [
        "## Subtask 2.8: Visualizar resultados con gráficas"
      ],
      "metadata": {
        "id": "zVjIGTU9PMt7"
      },
      "id": "zVjIGTU9PMt7"
    },
    {
      "cell_type": "code",
      "source": [
        "import matplotlib.pyplot as plt\n",
        "\n",
        "# Graficar probabilidades de estado a lo largo del tiempo\n",
        "def plot_state_probabilities(state_probs, obs_sequence):\n",
        "    times = list(range(len(state_probs)))\n",
        "    for state in state_probs[0].keys():\n",
        "        probs = [sp[state] for sp in state_probs]\n",
        "        plt.plot(times, probs, marker='o', label=state)\n",
        "\n",
        "    plt.xticks(times, obs_sequence)\n",
        "    plt.xlabel('Observaciones')\n",
        "    plt.ylabel('Probabilidad')\n",
        "    plt.title('Probabilidades de Estado a lo Largo del Tiempo')\n",
        "    plt.legend()\n",
        "    plt.grid(True)\n",
        "    plt.show()\n",
        "\n",
        "# Llamar a la función para graficar\n",
        "plot_state_probabilities(state_probs, obs_sequence)"
      ],
      "metadata": {
        "colab": {
          "base_uri": "https://localhost:8080/",
          "height": 472
        },
        "id": "snej4mUXPQc_",
        "outputId": "a110d8fd-9436-465e-abf1-04656685cdd5"
      },
      "id": "snej4mUXPQc_",
      "execution_count": 8,
      "outputs": [
        {
          "output_type": "display_data",
          "data": {
            "text/plain": [
              "<Figure size 640x480 with 1 Axes>"
            ],
            "image/png": "[encoded data removed]"
          },
          "metadata": {}
        }
      ]
    }
  ],
  "metadata": {
    "kernelspec": {
      "display_name": "Python 3",
      "language": "python",
      "name": "python3"
    },
    "language_info": {
      "codemirror_mode": {
        "name": "ipython",
        "version": 3
      },
      "file_extension": ".py",
      "mimetype": "text/x-python",
      "name": "python",
      "nbconvert_exporter": "python",
      "pygments_lexer": "ipython3",
      "version": "3.9.6"
    },
    "colab": {
      "provenance": [],
      "include_colab_link": true
    }
  },
  "nbformat": 4,
  "nbformat_minor": 5
}